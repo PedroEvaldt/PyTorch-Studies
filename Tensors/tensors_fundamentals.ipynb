{
 "cells": [
  {
   "cell_type": "code",
   "execution_count": 2,
   "id": "0ddcdcdc",
   "metadata": {},
   "outputs": [],
   "source": [
    "import torch"
   ]
  },
  {
   "cell_type": "markdown",
   "id": "9b71e04f",
   "metadata": {},
   "source": [
    "#### Tensors"
   ]
  },
  {
   "cell_type": "markdown",
   "id": "ed93d703",
   "metadata": {},
   "source": [
    "##### Torch.rand cria tensors com tamanho no formato Rn, torch zeros faz o mesmo porem com todos os numeros do tensor iguais a zero e o torch.ones mesma coisa porem com os numeros iguais a 1, o _like no final do tensor faz o tensor chamado anteriormente do _like (Ex: torch.zeros_like) fara um tensor de zeros no tamanho passado como argumento para a função"
   ]
  },
  {
   "cell_type": "code",
   "execution_count": 21,
   "id": "218b2b44",
   "metadata": {},
   "outputs": [
    {
     "name": "stdout",
     "output_type": "stream",
     "text": [
      "tensor([0.1754, 0.4059]) \n",
      "\n",
      "tensor([[0.7931, 0.9895],\n",
      "        [0.1662, 0.4423]]) \n",
      "\n",
      "tensor([[[0.4409, 0.0964],\n",
      "         [0.7076, 0.6130]],\n",
      "\n",
      "        [[0.8625, 0.8712],\n",
      "         [0.7886, 0.4800]]])\n"
     ]
    },
    {
     "data": {
      "text/plain": [
       "tensor([[0., 0.],\n",
       "        [0., 0.]])"
      ]
     },
     "execution_count": 21,
     "metadata": {},
     "output_type": "execute_result"
    }
   ],
   "source": [
    "t1 = torch.rand(2)\n",
    "print(t1, \"\\n\")\n",
    "t2 = torch.rand(2, 2)\n",
    "print(t2, \"\\n\")\n",
    "t3 = torch.rand(2, 2, 2)\n",
    "print(t3)\n",
    "\n",
    "tz = torch.zeros(2, 2)\n",
    "tz\n",
    "\n",
    "tone = torch.ones(2, 2)\n",
    "tone\n",
    "\n",
    "\n",
    "t4 = torch.zeros_like(tone)\n",
    "t4"
   ]
  },
  {
   "cell_type": "markdown",
   "id": "4c630515",
   "metadata": {},
   "source": [
    "### Pegando informacoes de tensors - Tensor atributes -\n",
    "1. Tensor no datatype errado - pra pegar o dtype de um tensor, usar `tensor.dtype`\n",
    "2. Tensor no shape errado - pra pegar o shape de um tensor, usar `tensor.shape`\n",
    "3. Tensor no device errado - pra pegar o device de um  tensor, usar `tensor.device`"
   ]
  },
  {
   "cell_type": "code",
   "execution_count": 29,
   "id": "4e591f9c",
   "metadata": {},
   "outputs": [
    {
     "name": "stdout",
     "output_type": "stream",
     "text": [
      "torch.float32\n",
      "torch.Size([3, 3])\n",
      "cpu\n"
     ]
    }
   ],
   "source": [
    "tensor1 = torch.rand(3, 3)\n",
    "print(tensor1.dtype)\n",
    "print(tensor1.shape)\n",
    "print(tensor1.device)"
   ]
  },
  {
   "cell_type": "markdown",
   "id": "02bf72dc",
   "metadata": {},
   "source": [
    "#### Multiplicacao de matrizes"
   ]
  },
  {
   "cell_type": "markdown",
   "id": "188e8c3a",
   "metadata": {},
   "source": [
    "##### torch.mm realiza a multiplicacao de matrizes, e .T transorma a matriz em sua matrix transposta"
   ]
  },
  {
   "cell_type": "code",
   "execution_count": 31,
   "id": "bd60b92a",
   "metadata": {},
   "outputs": [
    {
     "data": {
      "text/plain": [
       "tensor([[0.5854, 0.4174, 0.4355],\n",
       "        [0.3706, 0.1801, 0.4490],\n",
       "        [0.4125, 0.2194, 0.5974],\n",
       "        [0.1756, 0.6629, 0.4791]])"
      ]
     },
     "execution_count": 31,
     "metadata": {},
     "output_type": "execute_result"
    }
   ],
   "source": [
    "t1 = torch.rand(3, 4)\n",
    "t2 = torch.rand(4, 6)\n",
    "value = torch.mm(t1, t2)\n",
    "value\n",
    "\n",
    "t1.T"
   ]
  },
  {
   "cell_type": "markdown",
   "id": "f22d996f",
   "metadata": {},
   "source": [
    "#### Achar o min, max, mean, sum, etc (tensor aggregation)"
   ]
  },
  {
   "cell_type": "code",
   "execution_count": 37,
   "id": "ec45209a",
   "metadata": {},
   "outputs": [
    {
     "name": "stdout",
     "output_type": "stream",
     "text": [
      "tensor([ 0., 10., 20., 30., 40., 50., 60., 70., 80., 90.], dtype=torch.float16)\n",
      "tensor(0., dtype=torch.float16)\n",
      "tensor(90., dtype=torch.float16)\n",
      "tensor(45., dtype=torch.float16)\n",
      "tensor(450., dtype=torch.float16)\n",
      "tensor(0)\n",
      "tensor(9)\n"
     ]
    }
   ],
   "source": [
    "x = torch.arange(0, 100, 10).type(torch.float16) # Tensor aggregation nao aceita tipos long\n",
    "print(x)\n",
    "print(torch.min(x))\n",
    "print(torch.max(x))\n",
    "print(torch.mean(x))\n",
    "print(torch.sum(x))\n",
    "\n",
    "\n",
    "print(x.argmin())\n",
    "print(x.argmax())"
   ]
  },
  {
   "cell_type": "markdown",
   "id": "f849f316",
   "metadata": {},
   "source": [
    "##### Criando tensores numa range"
   ]
  },
  {
   "cell_type": "code",
   "execution_count": 4,
   "id": "e55d8b0e",
   "metadata": {},
   "outputs": [
    {
     "name": "stdout",
     "output_type": "stream",
     "text": [
      "tensor([ 0, 10, 20, 30, 40, 50, 60, 70, 80, 90])\n"
     ]
    }
   ],
   "source": [
    "tr = torch.arange(start=0, end=100, step=10)\n",
    "print(tr)"
   ]
  },
  {
   "cell_type": "markdown",
   "id": "c5aa8024",
   "metadata": {},
   "source": [
    "##### Reshaping, stacking, squeezing e unsqueezing"
   ]
  },
  {
   "cell_type": "code",
   "execution_count": null,
   "id": "98469d31",
   "metadata": {},
   "outputs": [
    {
     "name": "stdout",
     "output_type": "stream",
     "text": [
      "Before:  tensor([[[0.4890, 0.3215, 0.1244],\n",
      "         [0.6906, 0.4878, 0.3437],\n",
      "         [0.3187, 0.5026, 0.2887]],\n",
      "\n",
      "        [[0.7601, 0.2356, 0.0890],\n",
      "         [0.5191, 0.3912, 0.4934],\n",
      "         [0.6528, 0.9471, 0.5395]]])\n",
      "After:  tensor([[0.4890, 0.3215],\n",
      "        [0.1244, 0.6906],\n",
      "        [0.4878, 0.3437],\n",
      "        [0.3187, 0.5026],\n",
      "        [0.2887, 0.7601],\n",
      "        [0.2356, 0.0890],\n",
      "        [0.5191, 0.3912],\n",
      "        [0.4934, 0.6528],\n",
      "        [0.9471, 0.5395]])\n",
      "\n",
      " Stacked:  tensor([[[0.4890, 0.3215],\n",
      "         [0.1244, 0.6906],\n",
      "         [0.4878, 0.3437],\n",
      "         [0.3187, 0.5026],\n",
      "         [0.2887, 0.7601],\n",
      "         [0.2356, 0.0890],\n",
      "         [0.5191, 0.3912],\n",
      "         [0.4934, 0.6528],\n",
      "         [0.9471, 0.5395]],\n",
      "\n",
      "        [[0.4890, 0.3215],\n",
      "         [0.1244, 0.6906],\n",
      "         [0.4878, 0.3437],\n",
      "         [0.3187, 0.5026],\n",
      "         [0.2887, 0.7601],\n",
      "         [0.2356, 0.0890],\n",
      "         [0.5191, 0.3912],\n",
      "         [0.4934, 0.6528],\n",
      "         [0.9471, 0.5395]]]) torch.Size([2, 9, 2])\n"
     ]
    }
   ],
   "source": [
    "t1 = torch.rand(2, 3, 3)\n",
    "print(\"Before: \",t1)\n",
    "t1 = t1.reshape(9, 2)\n",
    "print(\"After: \",t1)\n",
    "t2 = t1.view(3, 3, 2)  # T2 é um ponteiro alterado do T1, se mudar os numeros presentes em T1, os numeros de T2 tambem serão alterados\n",
    "t1_stacked = torch.stack((t1, t1), dim=0) # Dimensao 0 é o eixo Y (Coloca um em cima do outro)\n",
    "print(\"\\n Stacked: \",t1_stacked, t1_stacked.shape)"
   ]
  },
  {
   "cell_type": "markdown",
   "id": "2a2f0090",
   "metadata": {},
   "source": [
    "##### Squeeze e unsqueeze tirando e colocam dimensois unicas no tensor\n"
   ]
  },
  {
   "cell_type": "code",
   "execution_count": 24,
   "id": "ad2fc180",
   "metadata": {},
   "outputs": [
    {
     "name": "stdout",
     "output_type": "stream",
     "text": [
      "tensor([[[0.3543, 0.0530]]]) torch.Size([1, 1, 2])\n",
      "tensor([0.3543, 0.0530]) torch.Size([2])\n"
     ]
    }
   ],
   "source": [
    "t1 = torch.rand(1, 1, 2)\n",
    "print(t1, t1.shape)\n",
    "t1 = t1.squeeze()\n",
    "print(t1, t1.shape)"
   ]
  },
  {
   "cell_type": "code",
   "execution_count": 30,
   "id": "a87251af",
   "metadata": {},
   "outputs": [
    {
     "name": "stdout",
     "output_type": "stream",
     "text": [
      "tensor([0.1321, 0.7067, 0.5171]) torch.Size([3])\n",
      "tensor([[0.1321, 0.7067, 0.5171]]) torch.Size([1, 3])\n",
      "tensor([[0.1321],\n",
      "        [0.7067],\n",
      "        [0.5171]]) torch.Size([3, 1])\n"
     ]
    }
   ],
   "source": [
    "t1 = torch.rand(3)\n",
    "print(t1, t1.shape)\n",
    "\n",
    "t1_un0 = t1.unsqueeze(dim=0)\n",
    "print(t1_un0, t1_un0.shape)\n",
    "\n",
    "t1_un1 = t1.unsqueeze(dim=1)\n",
    "print(t1_un1, t1_un1.shape)"
   ]
  }
 ],
 "metadata": {
  "kernelspec": {
   "display_name": "PyTorch-Studies",
   "language": "python",
   "name": "python3"
  },
  "language_info": {
   "codemirror_mode": {
    "name": "ipython",
    "version": 3
   },
   "file_extension": ".py",
   "mimetype": "text/x-python",
   "name": "python",
   "nbconvert_exporter": "python",
   "pygments_lexer": "ipython3",
   "version": "3.10.17"
  }
 },
 "nbformat": 4,
 "nbformat_minor": 5
}
